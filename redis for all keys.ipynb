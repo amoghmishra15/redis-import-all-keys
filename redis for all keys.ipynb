{
 "cells": [
  {
   "cell_type": "code",
   "execution_count": null,
   "metadata": {},
   "outputs": [],
   "source": [
    "try:\n",
    "    import redis\n",
    "except ImportError:\n",
    "    !py -m pip install redis\n",
    "    import redis"
   ]
  },
  {
   "cell_type": "code",
   "execution_count": null,
   "metadata": {},
   "outputs": [],
   "source": [
    "r = redis.Redis(host=\"host-ip\", port=6379, db=0, password='super-secret-password')"
   ]
  },
  {
   "cell_type": "code",
   "execution_count": null,
   "metadata": {},
   "outputs": [],
   "source": [
    "all_keys = r.keys('state:*')"
   ]
  },
  {
   "cell_type": "code",
   "execution_count": null,
   "metadata": {},
   "outputs": [],
   "source": [
    "hash_data = {}"
   ]
  },
  {
   "cell_type": "code",
   "execution_count": null,
   "metadata": {},
   "outputs": [],
   "source": [
    "filtered_data = []"
   ]
  },
  {
   "cell_type": "code",
   "execution_count": null,
   "metadata": {},
   "outputs": [],
   "source": [
    "for key in all_keys:\n",
    "    hash_values = r.hgetall(key)\n",
    "    decoded_values = {k.decode('utf-8'): v.decode('utf-8') for k, v in hash_values.items()}\n",
    "    # vehicle_num = decoded_values['vehicle_num']\n",
    "    # hash_data[vehicle_num] = decoded_values\n",
    "    filtered_values = {\n",
    "        'gps:location': decoded_values.get('gps:location'),\n",
    "        'can:charging_type': decoded_values.get('can:charging_type'),\n",
    "        'is_charging': decoded_values.get('is_charging'),\n",
    "        'can:dte': decoded_values.get('can:dte'),\n",
    "        'can:odometer': decoded_values.get('can:odometer'),\n",
    "        'can:soc': decoded_values.get('can:soc'),\n",
    "        'vehicle_num': decoded_values.get('vehicle_num')\n",
    "    }\n",
    "\n",
    "    # vehicle_num = decoded_values['vehicle_num']\n",
    "    # hash_data.update(filtered_values)\n",
    "    filtered_data.append(filtered_values)"
   ]
  },
  {
   "cell_type": "code",
   "execution_count": null,
   "metadata": {},
   "outputs": [],
   "source": [
    "try:\n",
    "    from flask import Flask, jsonify\n",
    "except ImportError:\n",
    "    !py -m pip install flask\n",
    "    from flask import Flask, jsonify\n",
    "\n",
    "# Initialize Flask application\n",
    "app = Flask(__name__)\n",
    "\n",
    "# Define route to serve the dictionary data\n",
    "@app.route('/filtered_data', methods=['GET'])\n",
    "def get_hash_data():\n",
    "    return jsonify(filtered_data)\n",
    "\n",
    "if __name__ == '__main__':\n",
    "    # Run the Flask application\n",
    "    app.run(host='localhost', port=5000)"
   ]
  }
 ],
 "metadata": {
  "kernelspec": {
   "display_name": "Python 3",
   "language": "python",
   "name": "python3"
  },
  "language_info": {
   "name": "python",
   "version": "3.10.9"
  },
  "orig_nbformat": 4
 },
 "nbformat": 4,
 "nbformat_minor": 2
}
